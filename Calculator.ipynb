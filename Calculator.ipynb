{
 "cells": [
  {
   "cell_type": "code",
   "execution_count": 2,
   "metadata": {
    "collapsed": true
   },
   "outputs": [],
   "source": [
    "import pandas as pd\n",
    "import numpy as np"
   ]
  },
  {
   "cell_type": "code",
   "execution_count": 99,
   "metadata": {
    "collapsed": true
   },
   "outputs": [],
   "source": [
    "DF = pd.DataFrame(columns=['B-Balance', 'I-Paid', 'P-Pad', 'T-Payment', 'E-Balance'])"
   ]
  },
  {
   "cell_type": "code",
   "execution_count": 100,
   "metadata": {
    "collapsed": true
   },
   "outputs": [],
   "source": [
    "r = 0.09/3.\n",
    "t_pay = calT_paid(1.6 * 10**6, r, 30)"
   ]
  },
  {
   "cell_type": "code",
   "execution_count": 101,
   "metadata": {
    "collapsed": false
   },
   "outputs": [],
   "source": [
    "i_pay = calI_paid(1.6*10**6)\n",
    "p_pay = t_pay - i_pay\n",
    "DF.loc[0] = [1.6 * 10**6, i_pay, p_pay, t_pay, 1.6 * 10**6 - p_pay]"
   ]
  },
  {
   "cell_type": "code",
   "execution_count": 102,
   "metadata": {
    "collapsed": true
   },
   "outputs": [],
   "source": [
    "def calI_paid(x):\n",
    "    return x * 0.09/3.\n",
    "\n",
    "def calP_paid(x, y):\n",
    "    return x - y\n",
    "\n",
    "def calT_paid(c, r, t):\n",
    "    return c /( (1 - (1/((1 + r)**t)))/r)"
   ]
  },
  {
   "cell_type": "code",
   "execution_count": null,
   "metadata": {
    "collapsed": true
   },
   "outputs": [],
   "source": []
  },
  {
   "cell_type": "code",
   "execution_count": 103,
   "metadata": {
    "collapsed": false
   },
   "outputs": [],
   "source": [
    "# t_pay = calT_paid(DF.loc[0, 'B-Balance'], 0.09, 5)"
   ]
  },
  {
   "cell_type": "code",
   "execution_count": 104,
   "metadata": {
    "collapsed": false
   },
   "outputs": [],
   "source": [
    "# print t_pay, b_balance, i_pay"
   ]
  },
  {
   "cell_type": "code",
   "execution_count": 105,
   "metadata": {
    "collapsed": false
   },
   "outputs": [],
   "source": [
    "# n = 1\n",
    "for n in xrange(1, 30):\n",
    "    b_balance = DF.loc[n - 1, 'E-Balance']\n",
    "    i_pay = calI_paid(b_balance)\n",
    "    p_pay = t_pay - i_pay\n",
    "    DF.loc[n] = [b_balance, i_pay, p_pay, t_pay, b_balance - p_pay]"
   ]
  },
  {
   "cell_type": "code",
   "execution_count": 106,
   "metadata": {
    "collapsed": false
   },
   "outputs": [
    {
     "data": {
      "text/html": [
       "<div>\n",
       "<table border=\"1\" class=\"dataframe\">\n",
       "  <thead>\n",
       "    <tr style=\"text-align: right;\">\n",
       "      <th></th>\n",
       "      <th>B-Balance</th>\n",
       "      <th>I-Paid</th>\n",
       "      <th>P-Pad</th>\n",
       "      <th>T-Payment</th>\n",
       "      <th>E-Balance</th>\n",
       "    </tr>\n",
       "  </thead>\n",
       "  <tbody>\n",
       "    <tr>\n",
       "      <th>0</th>\n",
       "      <td>1.600000e+06</td>\n",
       "      <td>48000.000000</td>\n",
       "      <td>33630.814912</td>\n",
       "      <td>81630.814912</td>\n",
       "      <td>1.566369e+06</td>\n",
       "    </tr>\n",
       "    <tr>\n",
       "      <th>1</th>\n",
       "      <td>1.566369e+06</td>\n",
       "      <td>46991.075553</td>\n",
       "      <td>34639.739360</td>\n",
       "      <td>81630.814912</td>\n",
       "      <td>1.531729e+06</td>\n",
       "    </tr>\n",
       "    <tr>\n",
       "      <th>2</th>\n",
       "      <td>1.531729e+06</td>\n",
       "      <td>45951.883372</td>\n",
       "      <td>35678.931541</td>\n",
       "      <td>81630.814912</td>\n",
       "      <td>1.496051e+06</td>\n",
       "    </tr>\n",
       "    <tr>\n",
       "      <th>3</th>\n",
       "      <td>1.496051e+06</td>\n",
       "      <td>44881.515426</td>\n",
       "      <td>36749.299487</td>\n",
       "      <td>81630.814912</td>\n",
       "      <td>1.459301e+06</td>\n",
       "    </tr>\n",
       "    <tr>\n",
       "      <th>4</th>\n",
       "      <td>1.459301e+06</td>\n",
       "      <td>43779.036441</td>\n",
       "      <td>37851.778471</td>\n",
       "      <td>81630.814912</td>\n",
       "      <td>1.421449e+06</td>\n",
       "    </tr>\n",
       "    <tr>\n",
       "      <th>5</th>\n",
       "      <td>1.421449e+06</td>\n",
       "      <td>42643.483087</td>\n",
       "      <td>38987.331826</td>\n",
       "      <td>81630.814912</td>\n",
       "      <td>1.382462e+06</td>\n",
       "    </tr>\n",
       "    <tr>\n",
       "      <th>6</th>\n",
       "      <td>1.382462e+06</td>\n",
       "      <td>41473.863132</td>\n",
       "      <td>40156.951780</td>\n",
       "      <td>81630.814912</td>\n",
       "      <td>1.342305e+06</td>\n",
       "    </tr>\n",
       "    <tr>\n",
       "      <th>7</th>\n",
       "      <td>1.342305e+06</td>\n",
       "      <td>40269.154579</td>\n",
       "      <td>41361.660334</td>\n",
       "      <td>81630.814912</td>\n",
       "      <td>1.300943e+06</td>\n",
       "    </tr>\n",
       "    <tr>\n",
       "      <th>8</th>\n",
       "      <td>1.300943e+06</td>\n",
       "      <td>39028.304769</td>\n",
       "      <td>42602.510144</td>\n",
       "      <td>81630.814912</td>\n",
       "      <td>1.258341e+06</td>\n",
       "    </tr>\n",
       "    <tr>\n",
       "      <th>9</th>\n",
       "      <td>1.258341e+06</td>\n",
       "      <td>37750.229464</td>\n",
       "      <td>43880.585448</td>\n",
       "      <td>81630.814912</td>\n",
       "      <td>1.214460e+06</td>\n",
       "    </tr>\n",
       "    <tr>\n",
       "      <th>10</th>\n",
       "      <td>1.214460e+06</td>\n",
       "      <td>36433.811901</td>\n",
       "      <td>45197.003011</td>\n",
       "      <td>81630.814912</td>\n",
       "      <td>1.169263e+06</td>\n",
       "    </tr>\n",
       "    <tr>\n",
       "      <th>11</th>\n",
       "      <td>1.169263e+06</td>\n",
       "      <td>35077.901811</td>\n",
       "      <td>46552.913102</td>\n",
       "      <td>81630.814912</td>\n",
       "      <td>1.122710e+06</td>\n",
       "    </tr>\n",
       "    <tr>\n",
       "      <th>12</th>\n",
       "      <td>1.122710e+06</td>\n",
       "      <td>33681.314418</td>\n",
       "      <td>47949.500495</td>\n",
       "      <td>81630.814912</td>\n",
       "      <td>1.074761e+06</td>\n",
       "    </tr>\n",
       "    <tr>\n",
       "      <th>13</th>\n",
       "      <td>1.074761e+06</td>\n",
       "      <td>32242.829403</td>\n",
       "      <td>49387.985510</td>\n",
       "      <td>81630.814912</td>\n",
       "      <td>1.025373e+06</td>\n",
       "    </tr>\n",
       "    <tr>\n",
       "      <th>14</th>\n",
       "      <td>1.025373e+06</td>\n",
       "      <td>30761.189837</td>\n",
       "      <td>50869.625075</td>\n",
       "      <td>81630.814912</td>\n",
       "      <td>9.745034e+05</td>\n",
       "    </tr>\n",
       "    <tr>\n",
       "      <th>15</th>\n",
       "      <td>9.745034e+05</td>\n",
       "      <td>29235.101085</td>\n",
       "      <td>52395.713827</td>\n",
       "      <td>81630.814912</td>\n",
       "      <td>9.221077e+05</td>\n",
       "    </tr>\n",
       "    <tr>\n",
       "      <th>16</th>\n",
       "      <td>9.221077e+05</td>\n",
       "      <td>27663.229670</td>\n",
       "      <td>53967.585242</td>\n",
       "      <td>81630.814912</td>\n",
       "      <td>8.681401e+05</td>\n",
       "    </tr>\n",
       "    <tr>\n",
       "      <th>17</th>\n",
       "      <td>8.681401e+05</td>\n",
       "      <td>26044.202113</td>\n",
       "      <td>55586.612799</td>\n",
       "      <td>81630.814912</td>\n",
       "      <td>8.125535e+05</td>\n",
       "    </tr>\n",
       "    <tr>\n",
       "      <th>18</th>\n",
       "      <td>8.125535e+05</td>\n",
       "      <td>24376.603729</td>\n",
       "      <td>57254.211183</td>\n",
       "      <td>81630.814912</td>\n",
       "      <td>7.552992e+05</td>\n",
       "    </tr>\n",
       "    <tr>\n",
       "      <th>19</th>\n",
       "      <td>7.552992e+05</td>\n",
       "      <td>22658.977394</td>\n",
       "      <td>58971.837519</td>\n",
       "      <td>81630.814912</td>\n",
       "      <td>6.963274e+05</td>\n",
       "    </tr>\n",
       "    <tr>\n",
       "      <th>20</th>\n",
       "      <td>6.963274e+05</td>\n",
       "      <td>20889.822268</td>\n",
       "      <td>60740.992644</td>\n",
       "      <td>81630.814912</td>\n",
       "      <td>6.355864e+05</td>\n",
       "    </tr>\n",
       "    <tr>\n",
       "      <th>21</th>\n",
       "      <td>6.355864e+05</td>\n",
       "      <td>19067.592489</td>\n",
       "      <td>62563.222424</td>\n",
       "      <td>81630.814912</td>\n",
       "      <td>5.730232e+05</td>\n",
       "    </tr>\n",
       "    <tr>\n",
       "      <th>22</th>\n",
       "      <td>5.730232e+05</td>\n",
       "      <td>17190.695816</td>\n",
       "      <td>64440.119096</td>\n",
       "      <td>81630.814912</td>\n",
       "      <td>5.085831e+05</td>\n",
       "    </tr>\n",
       "    <tr>\n",
       "      <th>23</th>\n",
       "      <td>5.085831e+05</td>\n",
       "      <td>15257.492243</td>\n",
       "      <td>66373.322669</td>\n",
       "      <td>81630.814912</td>\n",
       "      <td>4.422098e+05</td>\n",
       "    </tr>\n",
       "    <tr>\n",
       "      <th>24</th>\n",
       "      <td>4.422098e+05</td>\n",
       "      <td>13266.292563</td>\n",
       "      <td>68364.522349</td>\n",
       "      <td>81630.814912</td>\n",
       "      <td>3.738452e+05</td>\n",
       "    </tr>\n",
       "    <tr>\n",
       "      <th>25</th>\n",
       "      <td>3.738452e+05</td>\n",
       "      <td>11215.356893</td>\n",
       "      <td>70415.458020</td>\n",
       "      <td>81630.814912</td>\n",
       "      <td>3.034298e+05</td>\n",
       "    </tr>\n",
       "    <tr>\n",
       "      <th>26</th>\n",
       "      <td>3.034298e+05</td>\n",
       "      <td>9102.893152</td>\n",
       "      <td>72527.921760</td>\n",
       "      <td>81630.814912</td>\n",
       "      <td>2.309018e+05</td>\n",
       "    </tr>\n",
       "    <tr>\n",
       "      <th>27</th>\n",
       "      <td>2.309018e+05</td>\n",
       "      <td>6927.055499</td>\n",
       "      <td>74703.759413</td>\n",
       "      <td>81630.814912</td>\n",
       "      <td>1.561981e+05</td>\n",
       "    </tr>\n",
       "    <tr>\n",
       "      <th>28</th>\n",
       "      <td>1.561981e+05</td>\n",
       "      <td>4685.942717</td>\n",
       "      <td>76944.872196</td>\n",
       "      <td>81630.814912</td>\n",
       "      <td>7.925322e+04</td>\n",
       "    </tr>\n",
       "    <tr>\n",
       "      <th>29</th>\n",
       "      <td>7.925322e+04</td>\n",
       "      <td>2377.596551</td>\n",
       "      <td>79253.218362</td>\n",
       "      <td>81630.814912</td>\n",
       "      <td>2.066372e-09</td>\n",
       "    </tr>\n",
       "  </tbody>\n",
       "</table>\n",
       "</div>"
      ],
      "text/plain": [
       "       B-Balance        I-Paid         P-Pad     T-Payment     E-Balance\n",
       "0   1.600000e+06  48000.000000  33630.814912  81630.814912  1.566369e+06\n",
       "1   1.566369e+06  46991.075553  34639.739360  81630.814912  1.531729e+06\n",
       "2   1.531729e+06  45951.883372  35678.931541  81630.814912  1.496051e+06\n",
       "3   1.496051e+06  44881.515426  36749.299487  81630.814912  1.459301e+06\n",
       "4   1.459301e+06  43779.036441  37851.778471  81630.814912  1.421449e+06\n",
       "5   1.421449e+06  42643.483087  38987.331826  81630.814912  1.382462e+06\n",
       "6   1.382462e+06  41473.863132  40156.951780  81630.814912  1.342305e+06\n",
       "7   1.342305e+06  40269.154579  41361.660334  81630.814912  1.300943e+06\n",
       "8   1.300943e+06  39028.304769  42602.510144  81630.814912  1.258341e+06\n",
       "9   1.258341e+06  37750.229464  43880.585448  81630.814912  1.214460e+06\n",
       "10  1.214460e+06  36433.811901  45197.003011  81630.814912  1.169263e+06\n",
       "11  1.169263e+06  35077.901811  46552.913102  81630.814912  1.122710e+06\n",
       "12  1.122710e+06  33681.314418  47949.500495  81630.814912  1.074761e+06\n",
       "13  1.074761e+06  32242.829403  49387.985510  81630.814912  1.025373e+06\n",
       "14  1.025373e+06  30761.189837  50869.625075  81630.814912  9.745034e+05\n",
       "15  9.745034e+05  29235.101085  52395.713827  81630.814912  9.221077e+05\n",
       "16  9.221077e+05  27663.229670  53967.585242  81630.814912  8.681401e+05\n",
       "17  8.681401e+05  26044.202113  55586.612799  81630.814912  8.125535e+05\n",
       "18  8.125535e+05  24376.603729  57254.211183  81630.814912  7.552992e+05\n",
       "19  7.552992e+05  22658.977394  58971.837519  81630.814912  6.963274e+05\n",
       "20  6.963274e+05  20889.822268  60740.992644  81630.814912  6.355864e+05\n",
       "21  6.355864e+05  19067.592489  62563.222424  81630.814912  5.730232e+05\n",
       "22  5.730232e+05  17190.695816  64440.119096  81630.814912  5.085831e+05\n",
       "23  5.085831e+05  15257.492243  66373.322669  81630.814912  4.422098e+05\n",
       "24  4.422098e+05  13266.292563  68364.522349  81630.814912  3.738452e+05\n",
       "25  3.738452e+05  11215.356893  70415.458020  81630.814912  3.034298e+05\n",
       "26  3.034298e+05   9102.893152  72527.921760  81630.814912  2.309018e+05\n",
       "27  2.309018e+05   6927.055499  74703.759413  81630.814912  1.561981e+05\n",
       "28  1.561981e+05   4685.942717  76944.872196  81630.814912  7.925322e+04\n",
       "29  7.925322e+04   2377.596551  79253.218362  81630.814912  2.066372e-09"
      ]
     },
     "execution_count": 106,
     "metadata": {},
     "output_type": "execute_result"
    }
   ],
   "source": [
    "DF"
   ]
  },
  {
   "cell_type": "code",
   "execution_count": 81,
   "metadata": {
    "collapsed": false
   },
   "outputs": [
    {
     "data": {
      "text/plain": [
       "33630.814912"
      ]
     },
     "execution_count": 81,
     "metadata": {},
     "output_type": "execute_result"
    }
   ],
   "source": [
    "81630.814912 - (1.6*10**6) *0.09/3 "
   ]
  },
  {
   "cell_type": "code",
   "execution_count": 112,
   "metadata": {
    "collapsed": false
   },
   "outputs": [
    {
     "data": {
      "text/plain": [
       "489784.88947442442"
      ]
     },
     "execution_count": 112,
     "metadata": {},
     "output_type": "execute_result"
    }
   ],
   "source": [
    "sum(DF.loc[:5, 'T-Payment'])"
   ]
  },
  {
   "cell_type": "code",
   "execution_count": 114,
   "metadata": {
    "collapsed": false
   },
   "outputs": [
    {
     "data": {
      "text/plain": [
       "217537.8955964584"
      ]
     },
     "execution_count": 114,
     "metadata": {},
     "output_type": "execute_result"
    }
   ],
   "source": [
    "sum(DF.loc[:5, 'P-Pad'])"
   ]
  },
  {
   "cell_type": "code",
   "execution_count": 116,
   "metadata": {
    "collapsed": false
   },
   "outputs": [
    {
     "data": {
      "text/plain": [
       "272246.99387796607"
      ]
     },
     "execution_count": 116,
     "metadata": {},
     "output_type": "execute_result"
    }
   ],
   "source": [
    "sum(DF.loc[:5, 'I-Paid'])"
   ]
  },
  {
   "cell_type": "code",
   "execution_count": null,
   "metadata": {
    "collapsed": true
   },
   "outputs": [],
   "source": []
  },
  {
   "cell_type": "code",
   "execution_count": null,
   "metadata": {
    "collapsed": true
   },
   "outputs": [],
   "source": []
  },
  {
   "cell_type": "code",
   "execution_count": 4,
   "metadata": {
    "collapsed": true
   },
   "outputs": [],
   "source": [
    "def cal_PVIFA(rate, times):\n",
    "    return (1. - 1./(1. + rate)**times)/rate"
   ]
  },
  {
   "cell_type": "code",
   "execution_count": 9,
   "metadata": {
    "collapsed": false
   },
   "outputs": [
    {
     "name": "stdout",
     "output_type": "stream",
     "text": [
      "1626.64700869\n"
     ]
    }
   ],
   "source": [
    "print 100*cal_PVIFA(12./200, 64.)"
   ]
  },
  {
   "cell_type": "code",
   "execution_count": 10,
   "metadata": {
    "collapsed": true
   },
   "outputs": [],
   "source": [
    "def cal_FVIFA(rate, times):\n",
    "    return ((1. + rate)**times - 1)/rate"
   ]
  },
  {
   "cell_type": "code",
   "execution_count": 11,
   "metadata": {
    "collapsed": false
   },
   "outputs": [
    {
     "name": "stdout",
     "output_type": "stream",
     "text": [
      "67743.6661099\n"
     ]
    }
   ],
   "source": [
    "print 100*cal_FVIFA(12./200, 64.)"
   ]
  },
  {
   "cell_type": "code",
   "execution_count": 12,
   "metadata": {
    "collapsed": false
   },
   "outputs": [
    {
     "name": "stdout",
     "output_type": "stream",
     "text": [
      "1176155.12694\n"
     ]
    }
   ],
   "source": [
    "print 100*cal_FVIFA(12./100, 64.)"
   ]
  },
  {
   "cell_type": "code",
   "execution_count": 17,
   "metadata": {
    "collapsed": false
   },
   "outputs": [],
   "source": [
    "pvifa = 0.0\n",
    "for i in xrange(7, 281, 7):\n",
    "    pvifa += 1./(0.12)**i"
   ]
  },
  {
   "cell_type": "code",
   "execution_count": null,
   "metadata": {
    "collapsed": false
   },
   "outputs": [],
   "source": []
  },
  {
   "cell_type": "code",
   "execution_count": 78,
   "metadata": {
    "collapsed": false
   },
   "outputs": [],
   "source": [
    "pvifa = 0.0\n",
    "for i in xrange(9, 283, 7):\n",
    "# for i in xrange(1, 41):\n",
    "    pvifa += 1./(1.01)**i\n",
    "#     print i"
   ]
  },
  {
   "cell_type": "code",
   "execution_count": 79,
   "metadata": {
    "collapsed": false
   },
   "outputs": [
    {
     "data": {
      "text/plain": [
       "12.751713590334818"
      ]
     },
     "execution_count": 79,
     "metadata": {},
     "output_type": "execute_result"
    }
   ],
   "source": [
    "pvifa"
   ]
  },
  {
   "cell_type": "code",
   "execution_count": 21,
   "metadata": {
    "collapsed": false
   },
   "outputs": [
    {
     "name": "stdout",
     "output_type": "stream",
     "text": [
      "0 32163.0329711\n",
      "1 31484.6633008\n",
      "2 30799.5099338\n",
      "3 30107.5050332\n",
      "4 29408.5800835\n",
      "5 28702.6658843\n",
      "6 27989.6925432\n",
      "7 27269.5894686\n",
      "8 26542.2853633\n",
      "9 25807.7082169\n",
      "10 25065.7852991\n",
      "11 24316.4431521\n",
      "12 23559.6075836\n",
      "13 22795.2036594\n",
      "14 22023.155696\n",
      "15 21243.387253\n",
      "16 20455.8211255\n",
      "17 19660.3793368\n",
      "18 18856.9831301\n",
      "19 18045.5529614\n",
      "20 17226.0084911\n",
      "21 16398.268576\n",
      "22 15562.2512617\n",
      "23 14717.8737743\n",
      "24 13865.0525121\n",
      "25 13003.7030372\n",
      "26 12133.7400676\n",
      "27 11255.0774683\n",
      "28 10367.6282429\n",
      "29 9471.30452537\n",
      "30 8566.01757062\n",
      "31 7651.67774633\n",
      "32 6728.19452379\n",
      "33 5795.47646903\n",
      "34 4853.43123372\n",
      "35 3901.96554606\n",
      "36 2940.98520152\n",
      "37 1970.39505353\n",
      "38 990.099004069\n",
      "39 -5.89018270603e-06\n"
     ]
    }
   ],
   "source": [
    "bal = 32834.68611\n",
    "for i in xrange(40):\n",
    "    bal *= 1.01\n",
    "    bal -= 1000\n",
    "    print i, bal"
   ]
  },
  {
   "cell_type": "code",
   "execution_count": 44,
   "metadata": {
    "collapsed": false
   },
   "outputs": [
    {
     "name": "stdout",
     "output_type": "stream",
     "text": [
      "7 12946.3613552\n",
      "14 12880.2516901\n",
      "21 12809.373181\n",
      "28 12733.3818257\n",
      "35 12651.9088072\n",
      "42 12564.5587038\n",
      "49 12470.90757\n",
      "56 12370.5008786\n",
      "63 12262.8513153\n",
      "70 12147.4364127\n",
      "77 12023.6960156\n",
      "84 11891.0295613\n",
      "91 11748.7931656\n",
      "98 11596.2964974\n",
      "105 11432.7994284\n",
      "112 11257.5084407\n",
      "119 11069.5727759\n",
      "126 10868.0803058\n",
      "133 10652.0531054\n",
      "140 10420.4427068\n",
      "147 10172.1250106\n",
      "154 9905.8948299\n",
      "161 9620.46004139\n",
      "168 9314.43531391\n",
      "175 8986.33538495\n",
      "182 8634.5678521\n",
      "189 8257.4254444\n",
      "196 7853.07773633\n",
      "203 7419.56226397\n",
      "210 6954.77500036\n",
      "217 6456.46014383\n",
      "224 5922.19916967\n",
      "231 5349.39909203\n",
      "238 4735.27987909\n",
      "245 4076.86096049\n",
      "252 3370.94676137\n",
      "259 2614.11119293\n",
      "266 1802.68102428\n",
      "273 932.718054707\n",
      "280 3.72892827727e-11\n"
     ]
    }
   ],
   "source": [
    "bal = pvifa * 1000\n",
    "for i in xrange(0, 281):\n",
    "    if i % 7 == 0 and i != 0:\n",
    "        bal -= 1000\n",
    "        print i, bal\n",
    "    bal *= 1.01"
   ]
  },
  {
   "cell_type": "code",
   "execution_count": 46,
   "metadata": {
    "collapsed": false
   },
   "outputs": [
    {
     "data": {
      "text/plain": [
       "0.9327180547071353"
      ]
     },
     "execution_count": 46,
     "metadata": {},
     "output_type": "execute_result"
    }
   ],
   "source": [
    "1./(1.01)**7"
   ]
  },
  {
   "cell_type": "code",
   "execution_count": 40,
   "metadata": {
    "collapsed": false
   },
   "outputs": [
    {
     "data": {
      "text/plain": [
       "13008.02303350055"
      ]
     },
     "execution_count": 40,
     "metadata": {},
     "output_type": "execute_result"
    }
   ],
   "source": [
    "pvifa * 1000"
   ]
  },
  {
   "cell_type": "code",
   "execution_count": 45,
   "metadata": {
    "collapsed": false
   },
   "outputs": [
    {
     "data": {
      "text/plain": [
       "13.008023033500551"
      ]
     },
     "execution_count": 45,
     "metadata": {},
     "output_type": "execute_result"
    }
   ],
   "source": [
    "pvifa"
   ]
  },
  {
   "cell_type": "code",
   "execution_count": 102,
   "metadata": {
    "collapsed": false
   },
   "outputs": [],
   "source": [
    "x = (1./(1.01**2)) - (1. / 1.01**282)"
   ]
  },
  {
   "cell_type": "code",
   "execution_count": 103,
   "metadata": {
    "collapsed": true
   },
   "outputs": [],
   "source": [
    "y = (1.01**7 - 1)"
   ]
  },
  {
   "cell_type": "code",
   "execution_count": 104,
   "metadata": {
    "collapsed": false
   },
   "outputs": [
    {
     "name": "stdout",
     "output_type": "stream",
     "text": [
      "12.7517135903\n"
     ]
    }
   ],
   "source": [
    "print x/y"
   ]
  },
  {
   "cell_type": "code",
   "execution_count": null,
   "metadata": {
    "collapsed": false
   },
   "outputs": [],
   "source": []
  },
  {
   "cell_type": "code",
   "execution_count": 107,
   "metadata": {
    "collapsed": false
   },
   "outputs": [
    {
     "name": "stdout",
     "output_type": "stream",
     "text": [
      "0 418246.0046\n",
      "1 410070.60506\n",
      "2 401077.665566\n",
      "3 391185.432123\n",
      "4 380303.975335\n",
      "5 368334.372868\n",
      "6 355167.810155\n",
      "7 340684.591171\n",
      "8 324753.050288\n",
      "9 307228.355317\n",
      "10 287951.190848\n",
      "11 266746.309933\n",
      "12 243420.940926\n",
      "13 217763.035019\n",
      "14 189539.338521\n",
      "15 158493.272373\n",
      "16 124342.59961\n",
      "17 86776.8595713\n",
      "18 45454.5455284\n",
      "19 8.12152793515e-05\n"
     ]
    }
   ],
   "source": [
    "bal = 425678.186\n",
    "for i in xrange(0, 20):\n",
    "#     if i % 7 == 0 and i != 0:\n",
    "    bal *= 1.10\n",
    "    bal -= 50000\n",
    "    print i, bal"
   ]
  },
  {
   "cell_type": "code",
   "execution_count": 115,
   "metadata": {
    "collapsed": true
   },
   "outputs": [],
   "source": [
    "x = 1. - (1./1.1**20)"
   ]
  },
  {
   "cell_type": "code",
   "execution_count": 116,
   "metadata": {
    "collapsed": true
   },
   "outputs": [],
   "source": [
    "y = 0.1"
   ]
  },
  {
   "cell_type": "code",
   "execution_count": 119,
   "metadata": {
    "collapsed": false
   },
   "outputs": [
    {
     "data": {
      "text/plain": [
       "425678.18598792824"
      ]
     },
     "execution_count": 119,
     "metadata": {},
     "output_type": "execute_result"
    }
   ],
   "source": [
    "x/y * 50000"
   ]
  },
  {
   "cell_type": "code",
   "execution_count": 153,
   "metadata": {
    "collapsed": false
   },
   "outputs": [
    {
     "name": "stdout",
     "output_type": "stream",
     "text": [
      "486.85181125\n"
     ]
    }
   ],
   "source": [
    "x = 1.1**40 - 1\n",
    "y = 1 - (1/1.1)\n",
    "print x/y"
   ]
  },
  {
   "cell_type": "code",
   "execution_count": 154,
   "metadata": {
    "collapsed": false
   },
   "outputs": [
    {
     "data": {
      "text/plain": [
       "874.3485720943456"
      ]
     },
     "execution_count": 154,
     "metadata": {},
     "output_type": "execute_result"
    }
   ],
   "source": [
    "425678.18598792824/(x/y)"
   ]
  },
  {
   "cell_type": "code",
   "execution_count": 156,
   "metadata": {
    "collapsed": false
   },
   "outputs": [
    {
     "name": "stdout",
     "output_type": "stream",
     "text": [
      "0 961.783429304\n",
      "1 2019.74520154\n",
      "2 3183.503151\n",
      "3 4463.6368954\n",
      "4 5871.78401424\n",
      "5 7420.74584497\n",
      "6 9124.60385877\n",
      "7 10998.847674\n",
      "8 13060.5158707\n",
      "9 15328.350887\n",
      "10 17822.969405\n",
      "11 20567.0497748\n",
      "12 23585.5381816\n",
      "13 26905.8754291\n",
      "14 30558.2464013\n",
      "15 34575.8544707\n",
      "16 38995.2233471\n",
      "17 43856.5291111\n",
      "18 49203.9654515\n",
      "19 55086.145426\n",
      "20 61556.5433979\n",
      "21 68673.981167\n",
      "22 76503.162713\n",
      "23 85115.2624136\n",
      "24 94588.5720843\n",
      "25 105009.212722\n",
      "26 116471.917423\n",
      "27 129080.892595\n",
      "28 142950.765284\n",
      "29 158207.625242\n",
      "30 174990.171195\n",
      "31 193450.971744\n",
      "32 213757.852348\n",
      "33 236095.421012\n",
      "34 260666.746542\n",
      "35 287695.204626\n",
      "36 317426.508518\n",
      "37 350130.942799\n",
      "38 386105.820508\n",
      "39 425678.185988\n"
     ]
    }
   ],
   "source": [
    "# bal = 963.9614176251376\n",
    "bal = 0\n",
    "for i in xrange(0, 40):\n",
    "#     if i % 7 == 0 and i != 0:\n",
    "#     bal *= 1.10\n",
    "#     if i !\n",
    "    bal += 874.3485720943456\n",
    "    bal *= 1.10\n",
    "    print i, bal"
   ]
  },
  {
   "cell_type": "code",
   "execution_count": 157,
   "metadata": {
    "collapsed": false
   },
   "outputs": [],
   "source": [
    "# 426642.147405 - 963.9614176251376"
   ]
  },
  {
   "cell_type": "code",
   "execution_count": 138,
   "metadata": {
    "collapsed": false
   },
   "outputs": [
    {
     "name": "stdout",
     "output_type": "stream",
     "text": [
      "17.7195213879 885976.069394\n"
     ]
    }
   ],
   "source": [
    "x = 1 - (1/1.1**21)\n",
    "y = 1.1**0.5 - 1\n",
    "z = x/y\n",
    "print z, z * 50000"
   ]
  },
  {
   "cell_type": "code",
   "execution_count": 142,
   "metadata": {
    "collapsed": false
   },
   "outputs": [
    {
     "name": "stdout",
     "output_type": "stream",
     "text": [
      "1\n",
      "3\n",
      "5\n",
      "7\n",
      "9\n",
      "11\n",
      "13\n",
      "15\n",
      "17\n",
      "19\n",
      "21\n",
      "23\n",
      "25\n",
      "27\n",
      "29\n",
      "31\n",
      "33\n",
      "35\n",
      "37\n",
      "39\n"
     ]
    }
   ],
   "source": [
    "for i in xrange(0, 40, 2):\n",
    "    print 1 + i"
   ]
  },
  {
   "cell_type": "code",
   "execution_count": 158,
   "metadata": {
    "collapsed": false
   },
   "outputs": [
    {
     "name": "stdout",
     "output_type": "stream",
     "text": [
      "190.689418044 4646.17323018\n"
     ]
    }
   ],
   "source": [
    "x = 1.1**39 - 1.1\n",
    "y = 1.1**2 - 1\n",
    "z = x/y\n",
    "print z, 885976.069394/z"
   ]
  },
  {
   "cell_type": "code",
   "execution_count": 163,
   "metadata": {
    "collapsed": false
   },
   "outputs": [
    {
     "name": "stdout",
     "output_type": "stream",
     "text": [
      "24 4646.17323018\n",
      "25 5110.7905532\n",
      "26 10268.0428387\n",
      "27 11294.8471226\n",
      "28 17070.505065\n",
      "29 18777.5555715\n",
      "30 25301.4843588\n",
      "31 27831.6327947\n",
      "32 35260.9693044\n",
      "33 38787.0662348\n",
      "34 47311.9460885\n",
      "35 52043.1406973\n",
      "36 61893.6279972\n",
      "37 68082.9907969\n",
      "38 79537.4631068\n",
      "39 87491.2094175\n",
      "40 100886.503589\n",
      "41 110975.153948\n",
      "42 126718.842573\n",
      "43 139390.726831\n",
      "44 157975.972744\n",
      "45 173773.570018\n",
      "46 195797.10025\n",
      "47 215376.810275\n",
      "48 241560.664533\n",
      "49 265716.730986\n",
      "50 296934.577315\n",
      "51 326628.035047\n",
      "52 363937.011782\n",
      "53 400330.71296\n",
      "54 445009.957486\n",
      "55 489510.953235\n",
      "56 543108.221788\n",
      "57 597419.043967\n",
      "58 661807.121594\n",
      "59 727987.833753\n",
      "60 805432.790359\n",
      "61 885976.069395\n"
     ]
    }
   ],
   "source": [
    "bal = 0\n",
    "for i in xrange(24, 62):\n",
    "#     if i % 7 == 0 and i != 0:\n",
    "#     bal *= 1.10\n",
    "#     if i !\n",
    "    if i % 2 == 0:\n",
    "        bal += 4646.17323018\n",
    "    print i, bal\n",
    "    bal *= 1.10\n",
    "    "
   ]
  },
  {
   "cell_type": "code",
   "execution_count": 160,
   "metadata": {
    "collapsed": false
   },
   "outputs": [],
   "source": [
    "# 980228.164094 - 5654.48776111"
   ]
  },
  {
   "cell_type": "code",
   "execution_count": 164,
   "metadata": {
    "collapsed": false
   },
   "outputs": [],
   "source": [
    "# print bal"
   ]
  },
  {
   "cell_type": "code",
   "execution_count": 4,
   "metadata": {
    "collapsed": false
   },
   "outputs": [
    {
     "name": "stdout",
     "output_type": "stream",
     "text": [
      "1910483.67445\n"
     ]
    }
   ],
   "source": [
    "x = (1.03)**6\n",
    "y = 1e6 * 1.6\n",
    "print x * y"
   ]
  },
  {
   "cell_type": "code",
   "execution_count": 6,
   "metadata": {
    "collapsed": false
   },
   "outputs": [
    {
     "data": {
      "text/plain": [
       "1420698.78495"
      ]
     },
     "execution_count": 6,
     "metadata": {},
     "output_type": "execute_result"
    }
   ],
   "source": [
    "1910483.67445 - 489784.8895"
   ]
  },
  {
   "cell_type": "code",
   "execution_count": 7,
   "metadata": {
    "collapsed": false
   },
   "outputs": [
    {
     "data": {
      "text/plain": [
       "179301.21505"
      ]
     },
     "execution_count": 7,
     "metadata": {},
     "output_type": "execute_result"
    }
   ],
   "source": [
    "1600000 - 1420698.78495"
   ]
  },
  {
   "cell_type": "code",
   "execution_count": 9,
   "metadata": {
    "collapsed": false
   },
   "outputs": [
    {
     "data": {
      "text/plain": [
       "5.417191443878186"
      ]
     },
     "execution_count": 9,
     "metadata": {},
     "output_type": "execute_result"
    }
   ],
   "source": [
    "(1 - (1./(1.03))**6)/(0.03)"
   ]
  },
  {
   "cell_type": "code",
   "execution_count": 37,
   "metadata": {
    "collapsed": false
   },
   "outputs": [
    {
     "name": "stdout",
     "output_type": "stream",
     "text": [
      "1382462.10419\n"
     ]
    }
   ],
   "source": [
    "x = (1 - (1./(1.03))**(30 - 6))/(0.03) * 81630.8149\n",
    "print x"
   ]
  },
  {
   "cell_type": "code",
   "execution_count": 36,
   "metadata": {
    "collapsed": false
   },
   "outputs": [
    {
     "data": {
      "text/plain": [
       "217537.89580652956"
      ]
     },
     "execution_count": 36,
     "metadata": {},
     "output_type": "execute_result"
    }
   ],
   "source": [
    "1.6 * 1e6 - x"
   ]
  },
  {
   "cell_type": "code",
   "execution_count": 28,
   "metadata": {
    "collapsed": false
   },
   "outputs": [
    {
     "data": {
      "text/plain": [
       "0.5080662636604907"
      ]
     },
     "execution_count": 28,
     "metadata": {},
     "output_type": "execute_result"
    }
   ],
   "source": [
    "1 - (1./(1.03))**(24)"
   ]
  },
  {
   "cell_type": "code",
   "execution_count": 30,
   "metadata": {
    "collapsed": false
   },
   "outputs": [
    {
     "data": {
      "text/plain": [
       "16.935542122016358"
      ]
     },
     "execution_count": 30,
     "metadata": {},
     "output_type": "execute_result"
    }
   ],
   "source": [
    "(1 - (1./(1.03))**(24))/.03"
   ]
  },
  {
   "cell_type": "code",
   "execution_count": 32,
   "metadata": {
    "collapsed": false
   },
   "outputs": [],
   "source": [
    "B6 = ((1 - (1./(1.03))**(24))/.03) * 81630"
   ]
  },
  {
   "cell_type": "code",
   "execution_count": 42,
   "metadata": {
    "collapsed": false
   },
   "outputs": [
    {
     "data": {
      "text/plain": [
       "217551.69657980464"
      ]
     },
     "execution_count": 42,
     "metadata": {},
     "output_type": "execute_result"
    }
   ],
   "source": [
    "(1.6 * 1e6) - B6"
   ]
  },
  {
   "cell_type": "code",
   "execution_count": 43,
   "metadata": {
    "collapsed": false
   },
   "outputs": [
    {
     "data": {
      "text/plain": [
       "272233.19292019535"
      ]
     },
     "execution_count": 43,
     "metadata": {},
     "output_type": "execute_result"
    }
   ],
   "source": [
    "489784.8895 - 217551.69657980464"
   ]
  },
  {
   "cell_type": "code",
   "execution_count": null,
   "metadata": {
    "collapsed": true
   },
   "outputs": [],
   "source": []
  }
 ],
 "metadata": {
  "kernelspec": {
   "display_name": "Python 2",
   "language": "python",
   "name": "python2"
  },
  "language_info": {
   "codemirror_mode": {
    "name": "ipython",
    "version": 2
   },
   "file_extension": ".py",
   "mimetype": "text/x-python",
   "name": "python",
   "nbconvert_exporter": "python",
   "pygments_lexer": "ipython2",
   "version": "2.7.10"
  }
 },
 "nbformat": 4,
 "nbformat_minor": 0
}
